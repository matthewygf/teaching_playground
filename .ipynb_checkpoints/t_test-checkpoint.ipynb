{
 "cells": [
  {
   "cell_type": "code",
   "execution_count": 8,
   "metadata": {},
   "outputs": [],
   "source": [
    "import math\n",
    "import numpy as np\n",
    "\n",
    "SEED = 42"
   ]
  },
  {
   "cell_type": "code",
   "execution_count": 2,
   "metadata": {},
   "outputs": [],
   "source": [
    "def pooled_var(size1, var1, size2, var2):\n",
    "    x = (size1 - 1) * var1\n",
    "    y = (size2 - 1) * var2\n",
    "    return (x + y) / (size1 + size2 - 2)"
   ]
  },
  {
   "cell_type": "code",
   "execution_count": 3,
   "metadata": {},
   "outputs": [],
   "source": [
    "def t_value(mean1, mean2, pooled_var, size1, size2):\n",
    "    norm = mean2 - mean1\n",
    "    denorm = math.sqrt(pooled_var * ((1/size1) + (1/size2)))\n",
    "    return norm/denorm"
   ]
  },
  {
   "cell_type": "code",
   "execution_count": 6,
   "metadata": {},
   "outputs": [
    {
     "name": "stdout",
     "output_type": "stream",
     "text": [
      "0.24157894736842103\n",
      "-11.459339975022091\n"
     ]
    }
   ],
   "source": [
    "# q1\n",
    "u1 = 4.88\n",
    "u2 = 1.75\n",
    "v1 = 0.24\n",
    "v2 = 0.25\n",
    "s1 = 17\n",
    "s2 = 4\n",
    "\n",
    "pooled_v = pooled_var(s1, v1, s2, v2)\n",
    "print (pooled_v)\n",
    "t = t_value(u1, u2, pooled_v, s1, s2)\n",
    "print (t )\n",
    "\n"
   ]
  },
  {
   "cell_type": "code",
   "execution_count": 7,
   "metadata": {},
   "outputs": [
    {
     "name": "stdout",
     "output_type": "stream",
     "text": [
      "0.2795238095238095\n",
      "-2.6734105402550705\n"
     ]
    }
   ],
   "source": [
    "#q2\n",
    "\n",
    "s1 = 12.0\n",
    "u1 = 2.50\n",
    "v1 = 0.27\n",
    "\n",
    "s2 = 11.0\n",
    "u2 = 1.91\n",
    "v2 = 0.29\n",
    "\n",
    "pooled_v = pooled_var(s1, v1, s2, v2)\n",
    "print (pooled_v)\n",
    "t = t_value(u1, u2, pooled_v, s1, s2)\n",
    "print (t )\n"
   ]
  },
  {
   "cell_type": "code",
   "execution_count": 40,
   "metadata": {},
   "outputs": [],
   "source": [
    "def group_mean(allmeans, allsize):\n",
    "    length = len(allmeans)\n",
    "    print(length)\n",
    "    reduced_mean = 0\n",
    "    for i in range(0, len(allmeans)):\n",
    "        reduced_mean += allmeans[i] * allsize[i]\n",
    "    return reduced_mean / np.sum(allsize)"
   ]
  },
  {
   "cell_type": "code",
   "execution_count": 41,
   "metadata": {},
   "outputs": [],
   "source": [
    "def between_ssd(allmeans, allsize, group_u):\n",
    "    bgs = 0\n",
    "    for i in range(0, len(allmeans)):\n",
    "        bgs += allsize[i] * (math.pow((allmeans[i] - group_u),2))\n",
    "    return bgs"
   ]
  },
  {
   "cell_type": "code",
   "execution_count": 42,
   "metadata": {},
   "outputs": [],
   "source": [
    "def within_ssd(allvars, allsize):\n",
    "    wss = 0\n",
    "    for i in range(0, len(allsize)):\n",
    "        wss += (allsize[i] - 1) * allvars[i]\n",
    "    return wss"
   ]
  },
  {
   "cell_type": "code",
   "execution_count": 47,
   "metadata": {},
   "outputs": [],
   "source": [
    "def f_stat(allmeans, allsize, allvars, numgroups):\n",
    "    g_u = group_mean(allmeans, allsize)\n",
    "    print (\"groupmean is %f\" % g_u)\n",
    "    bgs = between_ssd(allmeans, allsize, g_u)\n",
    "    print (\"between group mean is %f\" % bgs)\n",
    "    wss = within_ssd(allvars, allsize)\n",
    "    print (\"within group mean is %f\" % wss)\n",
    "    nom = bgs / (numgroups - 1)\n",
    "    denom = wss / (np.sum(allsize) - numgroups)\n",
    "    return nom / denom"
   ]
  },
  {
   "cell_type": "code",
   "execution_count": 48,
   "metadata": {},
   "outputs": [
    {
     "name": "stdout",
     "output_type": "stream",
     "text": [
      "5\n",
      "groupmean is 3.806389\n",
      "between group mean is 51.852431\n",
      "within group mean is 9.920000\n",
      "40.50971137152779\n"
     ]
    }
   ],
   "source": [
    "#q2\n",
    "\n",
    "allsizes = [16.0, 4.0, 7.0, 7.0, 2.0]\n",
    "allmeans = [4.94, 1.75, 2.57, 4.00, 2.50]\n",
    "allvars = [0.33, 0.25, 0.29, 0.33, 0.50]\n",
    "\n",
    "f = f_stat(allmeans, allsizes, allvars, len(allsizes))\n",
    "print (f)"
   ]
  },
  {
   "cell_type": "code",
   "execution_count": 49,
   "metadata": {},
   "outputs": [
    {
     "name": "stdout",
     "output_type": "stream",
     "text": [
      "3\n",
      "groupmean is 2.306923\n",
      "between group mean is 1.799677\n",
      "within group mean is 2.990000\n",
      "3.0094931824028808\n"
     ]
    }
   ],
   "source": [
    "allsizes = [4.0, 7.0, 2.0]\n",
    "allmeans = [1.75, 2.57, 2.50]\n",
    "allvars = [0.25, 0.29, 0.50]\n",
    "\n",
    "f = f_stat(allmeans, allsizes, allvars, len(allsizes))\n",
    "print (f)"
   ]
  },
  {
   "cell_type": "code",
   "execution_count": 50,
   "metadata": {},
   "outputs": [
    {
     "name": "stdout",
     "output_type": "stream",
     "text": [
      "2\n",
      "groupmean is 4.653913\n",
      "between group mean is 4.302748\n",
      "within group mean is 6.930000\n",
      "13.038629776021095\n"
     ]
    }
   ],
   "source": [
    "allsizes = [16.0,  7.0]\n",
    "allmeans = [4.94, 4.00]\n",
    "allvars = [0.33, 0.33]\n",
    "\n",
    "f = f_stat(allmeans, allsizes, allvars, len(allsizes))\n",
    "print (f)"
   ]
  },
  {
   "cell_type": "code",
   "execution_count": null,
   "metadata": {},
   "outputs": [],
   "source": []
  }
 ],
 "metadata": {
  "kernelspec": {
   "display_name": "Python 3",
   "language": "python",
   "name": "python3"
  },
  "language_info": {
   "codemirror_mode": {
    "name": "ipython",
    "version": 3
   },
   "file_extension": ".py",
   "mimetype": "text/x-python",
   "name": "python",
   "nbconvert_exporter": "python",
   "pygments_lexer": "ipython3",
   "version": "3.6.3"
  }
 },
 "nbformat": 4,
 "nbformat_minor": 2
}
