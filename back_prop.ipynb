{
 "cells": [
  {
   "cell_type": "code",
   "execution_count": 3,
   "metadata": {},
   "outputs": [],
   "source": [
    "import math"
   ]
  },
  {
   "cell_type": "code",
   "execution_count": 1,
   "metadata": {},
   "outputs": [
    {
     "name": "stdout",
     "output_type": "stream",
     "text": [
      "q is 3\n",
      "z is -4\n",
      "dfdz is 3\n",
      "dfdq is -4\n",
      "dfdy is -4\n",
      "dfdx is -4\n"
     ]
    }
   ],
   "source": [
    "# f(x,y,z) = (x + y)z\n",
    "x = -2\n",
    "y = 5\n",
    "z = -4\n",
    "\n",
    "q = x + y\n",
    "f = q * z\n",
    "\n",
    "dfdz = q\n",
    "dfdq = z\n",
    "\n",
    "dfdy = 1 * dfdq \n",
    "dfdx = 1 * dfdq\n",
    "\n",
    "print (\"q is %d\" % q)\n",
    "print (\"z is %d\" % z)\n",
    "\n",
    "print (\"dfdz is %d\" % dfdz)\n",
    "print (\"dfdq is %d\" % dfdq)\n",
    "\n",
    "print (\"dfdy is %d\" % dfdy)\n",
    "print (\"dfdx is %d\" % dfdx)"
   ]
  },
  {
   "cell_type": "code",
   "execution_count": 4,
   "metadata": {},
   "outputs": [
    {
     "name": "stdout",
     "output_type": "stream",
     "text": [
      "[0.3932238664829637, -0.5898357997244456]\n",
      "[-0.19661193324148185, -0.3932238664829637, 0.19661193324148185]\n"
     ]
    }
   ],
   "source": [
    "# f(w,x) = 1 / (1 + math.exp(- (w0*x0 + w1*x1 + w2)))\n",
    "\n",
    "w = [2, -3, -3]\n",
    "x = [-1, -2]\n",
    "\n",
    "# forward pass\n",
    "weightedsum = w[0] * x[0] + w[1] * x[1] + w[2]\n",
    "f = 1 / (1 + math.exp(-weightedsum))\n",
    "\n",
    "# backward pass\n",
    "dfdweightedsum = (1 - f) * f # gradient on the weighted sum, because that is the sigmoid activation derivation\n",
    "dx = [w[0] * dfdweightedsum, w[1] * dfdweightedsum]\n",
    "dw = [x[0] * dfdweightedsum, x[1]* dfdweightedsum, 1.0 * dfdweightedsum]\n",
    "\n",
    "print (dx)\n",
    "print (dw)"
   ]
  },
  {
   "cell_type": "code",
   "execution_count": 1,
   "metadata": {},
   "outputs": [],
   "source": [
    "import tensorflow as tf\n",
    "import numpy as np\n",
    "from sklearn import datasets\n",
    "from sklearn.model_selection import train_test_split\n",
    "\n",
    "SEED = 42\n",
    "tf.set_random_seed(SEED)\n",
    "np.random.seed(SEED)"
   ]
  },
  {
   "cell_type": "code",
   "execution_count": 2,
   "metadata": {},
   "outputs": [],
   "source": [
    "def init_weights(name,shape):\n",
    "    \"\"\" Weight initialization \"\"\"\n",
    "    # we almost always want the weights to be gaussian distribution\n",
    "    # but we will play with the normal method and see what are the effects.\n",
    "    return tf.get_variable(name, shape=shape, dtype=tf.float32, initializer=tf.contrib.layers.xavier_initializer())\n",
    "    "
   ]
  },
  {
   "cell_type": "code",
   "execution_count": 3,
   "metadata": {},
   "outputs": [],
   "source": [
    "def get_iris_data():\n",
    "    \"\"\" Read iris data and split \"\"\"\n",
    "    iris = datasets.load_iris()\n",
    "    input_data = iris[\"data\"]\n",
    "    labels = iris[\"target\"]\n",
    "    \n",
    "    # convert to one-hot vectors\n",
    "    oh_y = np.eye(len(np.unique(labels)))[labels]\n",
    "    # split the data set into train and test set because YOLO\n",
    "    return train_test_split(input_data, oh_y, test_size=0.33, random_state=SEED)"
   ]
  },
  {
   "cell_type": "code",
   "execution_count": 4,
   "metadata": {},
   "outputs": [
    {
     "name": "stdout",
     "output_type": "stream",
     "text": [
      "training shape has (100, 4) \n",
      "testing shape has (50, 4)\n"
     ]
    }
   ],
   "source": [
    "train_X, test_X, train_Y, test_Y = get_iris_data()\n",
    "print(\"training shape has %s \" % str(train_X.shape))\n",
    "print(\"testing shape has %s\" % str(test_X.shape))"
   ]
  },
  {
   "cell_type": "code",
   "execution_count": 10,
   "metadata": {},
   "outputs": [
    {
     "name": "stdout",
     "output_type": "stream",
     "text": [
      "Epoch = 1, train accuracy = 31.00%, test accuracy=38.00%\n",
      "Epoch = 101, train accuracy = 32.00%, test accuracy=38.00%\n",
      "Epoch = 201, train accuracy = 49.00%, test accuracy=48.00%\n",
      "Epoch = 301, train accuracy = 64.00%, test accuracy=68.00%\n",
      "Epoch = 401, train accuracy = 66.00%, test accuracy=68.00%\n",
      "Epoch = 501, train accuracy = 66.00%, test accuracy=68.00%\n",
      "Epoch = 601, train accuracy = 66.00%, test accuracy=68.00%\n",
      "Epoch = 701, train accuracy = 66.00%, test accuracy=68.00%\n",
      "Epoch = 801, train accuracy = 66.00%, test accuracy=68.00%\n",
      "Epoch = 901, train accuracy = 66.00%, test accuracy=68.00%\n",
      "Epoch = 1001, train accuracy = 66.00%, test accuracy=68.00%\n",
      "Epoch = 1101, train accuracy = 66.00%, test accuracy=68.00%\n",
      "Epoch = 1201, train accuracy = 66.00%, test accuracy=68.00%\n",
      "Epoch = 1301, train accuracy = 66.00%, test accuracy=68.00%\n",
      "Epoch = 1401, train accuracy = 66.00%, test accuracy=68.00%\n",
      "Epoch = 1501, train accuracy = 66.00%, test accuracy=68.00%\n",
      "Epoch = 1601, train accuracy = 66.00%, test accuracy=68.00%\n",
      "Epoch = 1701, train accuracy = 66.00%, test accuracy=68.00%\n",
      "Epoch = 1801, train accuracy = 66.00%, test accuracy=68.00%\n",
      "Epoch = 1901, train accuracy = 66.00%, test accuracy=68.00%\n",
      "Epoch = 2001, train accuracy = 66.00%, test accuracy=68.00%\n",
      "Epoch = 2101, train accuracy = 66.00%, test accuracy=68.00%\n",
      "Epoch = 2201, train accuracy = 66.00%, test accuracy=70.00%\n",
      "Epoch = 2301, train accuracy = 66.00%, test accuracy=70.00%\n",
      "Epoch = 2401, train accuracy = 66.00%, test accuracy=70.00%\n",
      "Epoch = 2501, train accuracy = 66.00%, test accuracy=70.00%\n",
      "Epoch = 2601, train accuracy = 66.00%, test accuracy=70.00%\n",
      "Epoch = 2701, train accuracy = 67.00%, test accuracy=70.00%\n",
      "Epoch = 2801, train accuracy = 69.00%, test accuracy=70.00%\n",
      "Epoch = 2901, train accuracy = 70.00%, test accuracy=70.00%\n",
      "Epoch = 3001, train accuracy = 70.00%, test accuracy=74.00%\n",
      "Epoch = 3101, train accuracy = 73.00%, test accuracy=76.00%\n",
      "Epoch = 3201, train accuracy = 74.00%, test accuracy=82.00%\n",
      "Epoch = 3301, train accuracy = 76.00%, test accuracy=84.00%\n",
      "Epoch = 3401, train accuracy = 78.00%, test accuracy=84.00%\n",
      "Epoch = 3501, train accuracy = 81.00%, test accuracy=86.00%\n",
      "Epoch = 3601, train accuracy = 81.00%, test accuracy=86.00%\n",
      "Epoch = 3701, train accuracy = 83.00%, test accuracy=88.00%\n",
      "Epoch = 3801, train accuracy = 85.00%, test accuracy=88.00%\n",
      "Epoch = 3901, train accuracy = 86.00%, test accuracy=88.00%\n",
      "Epoch = 4001, train accuracy = 87.00%, test accuracy=88.00%\n",
      "Epoch = 4101, train accuracy = 90.00%, test accuracy=88.00%\n",
      "Epoch = 4201, train accuracy = 90.00%, test accuracy=88.00%\n",
      "Epoch = 4301, train accuracy = 92.00%, test accuracy=88.00%\n",
      "Epoch = 4401, train accuracy = 93.00%, test accuracy=88.00%\n",
      "Epoch = 4501, train accuracy = 94.00%, test accuracy=88.00%\n",
      "Epoch = 4601, train accuracy = 95.00%, test accuracy=88.00%\n",
      "Epoch = 4701, train accuracy = 95.00%, test accuracy=88.00%\n",
      "Epoch = 4801, train accuracy = 95.00%, test accuracy=88.00%\n",
      "Epoch = 4901, train accuracy = 95.00%, test accuracy=88.00%\n"
     ]
    }
   ],
   "source": [
    "# Input neurons should be 4 , beacause the data set x features are 4.\n",
    "# output neruons are 3 , because iris has 3 classes\n",
    "input_neurons = 4\n",
    "hidden_neurons = 5\n",
    "hidden_neurons2 = 5\n",
    "output_neurons = 3\n",
    "\n",
    "tf.reset_default_graph()\n",
    "\n",
    "# init our data_placeholder \n",
    "# init to None for tf to determine at runtime \n",
    "input_x = tf.placeholder(tf.float32, shape=[None, input_neurons], name='inputs')\n",
    "label_y = tf.placeholder(tf.float32, shape=[None, output_neurons], name='ouputs')\n",
    "\n",
    "# initialise our Variables\n",
    "w1 = init_weights('w1',[input_neurons, hidden_neurons]) # first layer -> hidden\n",
    "b1 = init_weights('b1',[hidden_neurons])\n",
    "\n",
    "w2 = init_weights('w2',[hidden_neurons, hidden_neurons2]) # hidden -> ouput\n",
    "b2 = init_weights('b2',[hidden_neurons2])\n",
    "\n",
    "w3 = init_weights('w3',[hidden_neurons2, output_neurons]) # first layer -> hidden\n",
    "b3 = init_weights('b3',[output_neurons])\n",
    "\n",
    "# forward pass\n",
    "hidden_ouput = tf.nn.tanh(tf.add(tf.matmul(input_x, w1), b1))\n",
    "hidden2_ouput = tf.nn.tanh(tf.add(tf.matmul(hidden_ouput, w2), b2))\n",
    "final_output = tf.add(tf.matmul(hidden2_ouput, w3), b3)\n",
    "\n",
    "# backward pass\n",
    "loss = tf.reduce_mean(tf.nn.softmax_cross_entropy_with_logits_v2(labels=label_y, logits=final_output))\n",
    "update_op = tf.train.GradientDescentOptimizer(0.001).minimize(loss)\n",
    "\n",
    "# define out prediction op\n",
    "predict_op = tf.argmax(final_output, axis=1)\n",
    "\n",
    "# start init all the variables\n",
    "sess = tf.Session()\n",
    "init = tf.global_variables_initializer()\n",
    "sess.run(init)\n",
    "\n",
    "for epoch in range(5000):\n",
    "    # batch training\n",
    "    sess.run(update_op, feed_dict={input_x: train_X, label_y: train_Y})\n",
    "    \n",
    "    if epoch % 100 == 0 :\n",
    "        prediction = sess.run(predict_op, feed_dict={input_x: train_X, label_y: train_Y})\n",
    "        test_prediction = sess.run(predict_op, feed_dict={input_x: test_X, label_y: test_Y})\n",
    "        train_accuracy = np.mean(np.argmax(train_Y, axis=1) == prediction)\n",
    "        test_accuracy = np.mean(np.argmax(test_Y, axis=1) == test_prediction)\n",
    "        print (\"Epoch = %d, train accuracy = %.2f%%, test accuracy=%.2f%%\" \n",
    "               % (epoch +1, 100 * train_accuracy, 100 * test_accuracy))"
   ]
  },
  {
   "cell_type": "code",
   "execution_count": null,
   "metadata": {},
   "outputs": [],
   "source": []
  }
 ],
 "metadata": {
  "kernelspec": {
   "display_name": "Python 3",
   "language": "python",
   "name": "python3"
  },
  "language_info": {
   "codemirror_mode": {
    "name": "ipython",
    "version": 3
   },
   "file_extension": ".py",
   "mimetype": "text/x-python",
   "name": "python",
   "nbconvert_exporter": "python",
   "pygments_lexer": "ipython3",
   "version": "3.6.5"
  }
 },
 "nbformat": 4,
 "nbformat_minor": 2
}
